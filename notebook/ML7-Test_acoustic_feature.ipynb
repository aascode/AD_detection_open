{
 "cells": [
  {
   "cell_type": "markdown",
   "metadata": {},
   "source": [
    "__README:__\n",
    "\n",
    "Refer to paper:\n",
    "- Liu Z, Guo Z, Ling Z, et al. Detecting Alzheimer's Disease from Speech Using Neural Networks with Bottleneck Features and Data Augmentation. ICASSP 2021.\n",
    "\n",
    "This notebook uses HSFs extracted with OpenSMILE and train a support vector machines (SVM) as the classifier."
   ]
  },
  {
   "cell_type": "code",
   "execution_count": null,
   "metadata": {},
   "outputs": [],
   "source": [
    "# from IPython.core.display import display, HTML\n",
    "# display(HTML(\"<style>.container { width:80% !important; }</style>\"))\n",
    "\n",
    "import os\n",
    "import json\n",
    "import numpy as np\n",
    "import pandas as pd\n",
    "\n",
    "%matplotlib inline\n",
    "%config InlineBackend.figure_format = 'svg'\n",
    "\n",
    "%load_ext autoreload\n",
    "%autoreload 2\n",
    "\n",
    "import matplotlib.pyplot as plt\n",
    "\n",
    "import sys\n",
    "sys.path.append('..')\n",
    "from ad_detection.mlcode.util.helper_functions import *"
   ]
  },
  {
   "cell_type": "code",
   "execution_count": null,
   "metadata": {},
   "outputs": [],
   "source": []
  },
  {
   "cell_type": "markdown",
   "metadata": {},
   "source": [
    "# Prepare Features"
   ]
  },
  {
   "cell_type": "code",
   "execution_count": null,
   "metadata": {},
   "outputs": [],
   "source": [
    "from ad_detection.mlcode.data_manager import MLDataSet\n",
    "\n",
    "proj_root_path = '../'\n",
    "fe_file_path = proj_root_path + 'fusion/data_after_FE_CPE16.csv'\n",
    "\n",
    "\n",
    "CLASS_CHOOSE=['CTRL','AD']\n",
    "SEEDS = list(range(2008, 2018))\n",
    "\n",
    "ad_dataset = MLDataSet(fe_file_path)\n",
    "\n",
    "print()\n",
    "par_id_uni = ad_dataset.df.participant_id.unique()\n",
    "print('Unique %d\\n' % len(par_id_uni))  # , par_id_uni\n",
    "ad_dataset.df.iloc[:, 0:16].describe()"
   ]
  },
  {
   "cell_type": "code",
   "execution_count": null,
   "metadata": {
    "scrolled": false
   },
   "outputs": [],
   "source": []
  },
  {
   "cell_type": "code",
   "execution_count": null,
   "metadata": {},
   "outputs": [],
   "source": [
    "# duration egemaps linguistic score demographics    doctor all propose select test\n",
    "feature_group='^CPE16_*'\n",
    "# ['both', 'origin', 'perp']  None means auto.\n",
    "PPL_USAGE = 'origin' # None\n",
    "\n",
    "ad_dataset.feature_filter(feature_regex=feature_group)\n",
    "# ad_dataset.ppl_usage('both')"
   ]
  },
  {
   "cell_type": "markdown",
   "metadata": {},
   "source": [
    "# Dataset Split"
   ]
  },
  {
   "cell_type": "code",
   "execution_count": null,
   "metadata": {},
   "outputs": [],
   "source": [
    "from ad_detection.mlcode.data_splitter import KFoldSplitter\n",
    "\n",
    "# 载入已划分的数据\n",
    "k_splitter = KFoldSplitter(split_file_dir='../list/split/', result_file_dir='../list/result/') # "
   ]
  },
  {
   "cell_type": "code",
   "execution_count": null,
   "metadata": {},
   "outputs": [],
   "source": [
    "from ad_detection.mlcode.exp_logger import Logger\n",
    "logger = Logger(name_str=feature_group.strip('^*'))\n",
    "logger.open()\n",
    "logger.log_timestamp()\n",
    "logger.set_print(False, False)"
   ]
  },
  {
   "cell_type": "markdown",
   "metadata": {},
   "source": [
    "# Train & Test"
   ]
  },
  {
   "cell_type": "code",
   "execution_count": null,
   "metadata": {},
   "outputs": [],
   "source": [
    "import sklearn\n",
    "\n",
    "from sklearn import linear_model, decomposition, datasets\n",
    "from sklearn.svm import LinearSVC\n",
    "from sklearn.neighbors import KNeighborsClassifier\n",
    "from sklearn.ensemble import RandomForestClassifier \n",
    "from sklearn.pipeline import Pipeline\n",
    "\n",
    "from sklearn.preprocessing import StandardScaler\n",
    "from sklearn.metrics import confusion_matrix, precision_recall_fscore_support\n",
    "\n",
    "from sklearn.feature_selection import SelectKBest, SelectFromModel\n",
    "from sklearn.feature_selection import chi2, f_classif, mutual_info_classif\n",
    "\n",
    "from sklearn.neural_network import MLPClassifier\n",
    "\n",
    "from sklearn.model_selection import GridSearchCV\n",
    "\n",
    "from ad_detection.mlcode.util.roc import auc_classif\n",
    "from ad_detection.mlcode.util.feat_selection import SBS"
   ]
  },
  {
   "cell_type": "code",
   "execution_count": null,
   "metadata": {
    "scrolled": false
   },
   "outputs": [],
   "source": [
    "# %pdb\n",
    "#################################################\n",
    "\n",
    "# gamma: 当kernel为‘rbf’, ‘poly’或‘sigmoid’时的kernel系数。\n",
    "# 如果不设置，默认为 ‘auto’ ，此时，kernel系数设置为：1/n_features\n",
    "# C: 误差项的惩罚参数，一般取值为10的n次幂，如10的-5次幂，10的-4次幂。。。。10的0次幂，10，1000,1000，在python中可以使用pow（10，n） n=-5~inf\n",
    "#     C越大，相当于惩罚松弛变量，希望松弛变量接近0，即对误分类的惩罚增大，这样会出现训练集测试时准确率很高，但泛化能力弱。\n",
    "#     C值小，对误分类的惩罚减小，容错能力增强，泛化能力较强。\n",
    "\n",
    "tuned_parameters = [{'kernel': ['rbf'], 'gamma': [1e-2, 1e-3, 1e-4], 'C': [1, 10, 100, 1000]},\n",
    "                    {'kernel': ['linear'], 'C': [0.01, 0.1, 1, 10, 100]}]\n",
    "\n",
    "svc_model =sklearn.svm.SVC()\n",
    "# # parameters = {'kernel':('linear', 'rbf'), 'C':[1, 2, 4], 'gamma':[0.125, 0.25, 0.5 ,1, 2, 4]}\n",
    "# model = GridSearchCV(svc_model, tuned_parameters[0], scoring='f1', cv=4)\n",
    "\n",
    "\n",
    "# fit到RandomForestRegressor之中\n",
    "# C = [10, 5, 1, 0.7, 0.5, 0.2, 0.1, 0.05, 0.01]\n",
    "# model = linear_model.LogisticRegression(C=1.0, penalty='l1', solver='liblinear')  # C=0.1, tol=1e-6 lbfgs\n",
    "# model = sklearn.svm.SVC(kernel='linear', C=0.1)\n",
    "# model = RandomForestClassifier(n_estimators=50, max_leaf_nodes=5) # , max_features=5, max_features=10, max_depth=None\n",
    "# model = linear_model.LogisticRegression(C=0.1, penalty='l1', solver='liblinear')\n",
    "# model = KNeighborsClassifier(n_neighbors=10)\n",
    "# model = linear_model.LogisticRegressionCV(Cs=[0.01, 0.1, 1, 10], penalty='l1', solver='liblinear', cv=4, max_iter=1000)  # , 100\n",
    "\n",
    "# model = MLPClassifier(solver='sgd', hidden_layer_sizes = (100,30), random_state = 1, max_iter=500)\n",
    "\n",
    "model_list = {\n",
    "#     'svm1':sklearn.svm.SVC(kernel='rbf', gamma=1e-4, C=10),\n",
    "#     'svm2':sklearn.svm.SVC(kernel='linear', C=0.01),\n",
    "    'svm1':GridSearchCV(svc_model, tuned_parameters[0], scoring='f1', cv=4),\n",
    "    'svm2':GridSearchCV(svc_model, tuned_parameters[1], scoring='f1', cv=4),\n",
    "#     'lr1':linear_model.LogisticRegressionCV(Cs=[0.01, 0.1, 1], penalty='l1', solver='liblinear', cv=4),\n",
    "#     'rf1':RandomForestClassifier(n_estimators=50, max_leaf_nodes=5)\n",
    "}\n",
    "\n",
    "\n",
    "\n",
    "# lsvc = # LinearSVC(C=0.01, penalty=\"l1\", dual=False)\n",
    "# l1norm_model = linear_model.LogisticRegression(C=0.1, penalty='l1')\n",
    "# pca = decomposition.PCA(10)\n",
    "\n",
    "# model = Pipeline([\n",
    "#     # SBS(model, 15)\n",
    "#     # SelectKBest(mutual_info_classif, k=5)   # auc_classif\n",
    "#     # SelectKBest(auc_classif, k=10)\n",
    "#     # SelectFromModel(model, threshold=\"0.1*mean\")\n",
    "#   ('feature_selection', SelectKBest(auc_classif, k=3) ),\n",
    "#   ('classification', model)\n",
    "# ])\n",
    "# model = Pipeline(steps=[('pca', pca), ('clf', model)])\n",
    "\n"
   ]
  },
  {
   "cell_type": "code",
   "execution_count": null,
   "metadata": {},
   "outputs": [],
   "source": [
    "# %pdb\n",
    "from ad_detection.mlcode.mlmodel import SKLearnModelAdapter\n",
    "from ad_detection.mlcode.main_exp import main_experiment"
   ]
  },
  {
   "cell_type": "code",
   "execution_count": null,
   "metadata": {
    "scrolled": true
   },
   "outputs": [],
   "source": [
    "for key  in model_list:\n",
    "    model = model_list[key]\n",
    "    adapter = SKLearnModelAdapter(model)\n",
    "    result = main_experiment(ad_dataset, k_splitter, adapter, seeds=SEEDS)\n",
    "\n",
    "    conf_mx = result['conf_mx_sum']\n",
    "    report = result['report']\n",
    "\n",
    "    show_confusion_matrix(conf_mx, save_pic_path='./log/cconf_mx.png', figsize=(3,3))\n",
    "\n",
    "    # result_df_stat # .describe()\n",
    "    # UAR\n",
    "    print(report)\n",
    "\n",
    "    logger.log_summary({\n",
    "        'Memo': '|'.join(CLASS_CHOOSE),\n",
    "        'Data': ad_dataset.summary(),\n",
    "        'Model': '\\n%s\\n' % str(model),\n",
    "        'Report': report,\n",
    "        'Confusion Matrix': '\\n%s\\n' % repr(result['conf_mx_sum']),\n",
    "        'CV_result_detail': result['cv_metrics_stat'].describe()\n",
    "    })"
   ]
  },
  {
   "cell_type": "code",
   "execution_count": null,
   "metadata": {},
   "outputs": [],
   "source": [
    "logger.close()"
   ]
  },
  {
   "cell_type": "markdown",
   "metadata": {},
   "source": [
    "# Analysis"
   ]
  },
  {
   "cell_type": "markdown",
   "metadata": {},
   "source": [
    "## Plot learning curve"
   ]
  },
  {
   "cell_type": "code",
   "execution_count": null,
   "metadata": {
    "scrolled": false
   },
   "outputs": [],
   "source": [
    "# model = linear_model.LogisticRegression(C=0.1, penalty='l1')\n",
    "# model = RandomForestClassifier(n_estimators=50, max_leaf_nodes=5)\n",
    "model = sklearn.svm.SVC(kernel='linear', C=0.01)\n",
    "import warnings\n",
    "warnings.filterwarnings(\"ignore\", message=\"The default value of cv will change from 3 to 5 in version 0.22.\")\n",
    "\n",
    "X, Y = ad_dataset.get_XY() # , return_matrix=True\n",
    "print(X.columns)\n",
    "# randomforest和logisticRegression已知对变量数量级和变化范围不敏感\n",
    "\n",
    "X_train, X_test, Y_train, Y_test, _ = ad_dataset.get_data_scaled(2009, 3, scale=True, data_splitter=k_splitter)\n",
    "print(model)\n",
    "print(X.shape)  # _train\n",
    "plot_learning_curve(model, \"Learning Curve\", X_train, Y_train, train_sizes=np.linspace(0.2, 1.0, 5), ylim=(0.5,1.0))\n",
    "plt.show()"
   ]
  },
  {
   "cell_type": "code",
   "execution_count": null,
   "metadata": {},
   "outputs": [],
   "source": []
  },
  {
   "cell_type": "markdown",
   "metadata": {},
   "source": [
    "# Try ..."
   ]
  },
  {
   "cell_type": "code",
   "execution_count": null,
   "metadata": {},
   "outputs": [],
   "source": []
  },
  {
   "cell_type": "code",
   "execution_count": null,
   "metadata": {},
   "outputs": [],
   "source": []
  },
  {
   "cell_type": "code",
   "execution_count": null,
   "metadata": {},
   "outputs": [],
   "source": []
  }
 ],
 "metadata": {
  "hide_input": false,
  "kernelspec": {
   "display_name": "Python 3",
   "language": "python",
   "name": "python3"
  },
  "language_info": {
   "codemirror_mode": {
    "name": "ipython",
    "version": 3
   },
   "file_extension": ".py",
   "mimetype": "text/x-python",
   "name": "python",
   "nbconvert_exporter": "python",
   "pygments_lexer": "ipython3",
   "version": "3.7.4"
  },
  "toc": {
   "base_numbering": 1,
   "nav_menu": {},
   "number_sections": true,
   "sideBar": true,
   "skip_h1_title": false,
   "title_cell": "Table of Contents",
   "title_sidebar": "Contents",
   "toc_cell": false,
   "toc_position": {
    "height": "calc(100% - 180px)",
    "left": "10px",
    "top": "150px",
    "width": "165px"
   },
   "toc_section_display": true,
   "toc_window_display": false
  },
  "varInspector": {
   "cols": {
    "lenName": 16,
    "lenType": 16,
    "lenVar": 40
   },
   "kernels_config": {
    "python": {
     "delete_cmd_postfix": "",
     "delete_cmd_prefix": "del ",
     "library": "var_list.py",
     "varRefreshCmd": "print(var_dic_list())"
    },
    "r": {
     "delete_cmd_postfix": ") ",
     "delete_cmd_prefix": "rm(",
     "library": "var_list.r",
     "varRefreshCmd": "cat(var_dic_list()) "
    }
   },
   "oldHeight": 291.781,
   "position": {
    "height": "408.975px",
    "left": "949.325px",
    "right": "20px",
    "top": "35.9125px",
    "width": "350.313px"
   },
   "types_to_exclude": [
    "module",
    "function",
    "builtin_function_or_method",
    "instance",
    "_Feature"
   ],
   "varInspector_section_display": "block",
   "window_display": false
  }
 },
 "nbformat": 4,
 "nbformat_minor": 2
}
