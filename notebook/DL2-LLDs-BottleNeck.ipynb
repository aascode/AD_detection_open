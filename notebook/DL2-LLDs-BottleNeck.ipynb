{
 "cells": [
  {
   "cell_type": "markdown",
   "metadata": {},
   "source": [
    "__README:__\n",
    "\n",
    "Refer to paper:\n",
    "- Liu Z, Guo Z, Ling Z, et al. Detecting Alzheimer's Disease from Speech Using Neural Networks with Bottleneck Features and Data Augmentation. ICASSP 2021.\n",
    "\n",
    "This notebook uses bottleneck features and train a deeplearing model.\n",
    "Data augmentation is directly performed on the extracted bottleneck features."
   ]
  },
  {
   "cell_type": "code",
   "execution_count": null,
   "metadata": {},
   "outputs": [],
   "source": [
    "%matplotlib inline\n",
    "# %matplotlib notebook\n",
    "import matplotlib.pyplot as plt\n",
    "plt.style.use('ggplot') # ggplot  seaborn-poster\n",
    "# basic handling\n",
    "import os\n",
    "import glob\n",
    "import pickle\n",
    "import h5py\n",
    "import numpy as np\n",
    "import sklearn\n",
    "# audio\n",
    "import librosa\n",
    "import librosa.display\n",
    "import IPython.display\n",
    "\n",
    "%load_ext autoreload\n",
    "%autoreload 2\n",
    "\n",
    "print(os.getcwd())"
   ]
  },
  {
   "cell_type": "markdown",
   "metadata": {},
   "source": [
    "# Prepare"
   ]
  },
  {
   "cell_type": "code",
   "execution_count": null,
   "metadata": {},
   "outputs": [],
   "source": [
    "import sys\n",
    "sys.path.append('..')\n",
    "from ad_detection.mlcode.util.helper_functions import *"
   ]
  },
  {
   "cell_type": "code",
   "execution_count": null,
   "metadata": {},
   "outputs": [],
   "source": [
    "from ad_detection.mlcode.merge_feature import merge_all\n",
    "\n",
    "proj_root_path = '../ws_en/'\n",
    "FE_file_path = proj_root_path + 'fusion/data_after_FE_CPE16.csv'\n",
    "\n",
    "\n",
    "CLASS_COL_NAME = 'label'\n",
    "CLASS_NAMES=(\"CTRL\", \"AD\")\n",
    "SEEDS = tuple(range(2008,2018))"
   ]
  },
  {
   "cell_type": "code",
   "execution_count": null,
   "metadata": {},
   "outputs": [],
   "source": [
    "from ad_detection.mlcode.data_splitter import KFoldSplitter\n",
    "\n",
    "# 载入已划分的数据\n",
    "data_splitter = KFoldSplitter(split_file_dir=proj_root_path + 'list/split/',\n",
    "                              result_file_dir=proj_root_path + 'list/result_bottleneck/')"
   ]
  },
  {
   "cell_type": "code",
   "execution_count": null,
   "metadata": {},
   "outputs": [],
   "source": []
  },
  {
   "cell_type": "markdown",
   "metadata": {},
   "source": [
    "# Deep Learning Dataset"
   ]
  },
  {
   "cell_type": "code",
   "execution_count": null,
   "metadata": {},
   "outputs": [],
   "source": [
    "!ls ../ws_en/data/\n",
    "!echo ----------\n",
    "!ls ../ws_en/fusion/"
   ]
  },
  {
   "cell_type": "code",
   "execution_count": null,
   "metadata": {},
   "outputs": [],
   "source": [
    "from ad_detection.dlcode.dl_data_manager import DLDataSet\n",
    "DL_FILE_PATH = proj_root_path + 'fusion/bottleneck_hp.hdf5'\n",
    "\n",
    "dl_dataset = DLDataSet(DL_FILE_PATH, FE_file_path, len(CLASS_NAMES), normlize=True,  mask_aug_num=(2,2))"
   ]
  },
  {
   "cell_type": "code",
   "execution_count": null,
   "metadata": {},
   "outputs": [],
   "source": [
    "dl_dataset.get_input_shape()"
   ]
  },
  {
   "cell_type": "code",
   "execution_count": null,
   "metadata": {},
   "outputs": [],
   "source": [
    "shape_stat = dl_dataset.describe_data()"
   ]
  },
  {
   "cell_type": "markdown",
   "metadata": {},
   "source": [
    "# "
   ]
  },
  {
   "cell_type": "code",
   "execution_count": null,
   "metadata": {},
   "outputs": [],
   "source": [
    "import h5py\n",
    "def length_of_sentences(shape_stat):\n",
    "    global dl_dataset\n",
    "    dl_dataset.get_input_shape()\n",
    "    counts, bins, patch = plt.hist(shape_stat[:, 0])  # , bins=[50 * i for i in range(10)]\n",
    "    for indx in range(len(counts)):\n",
    "        plt.text(bins[indx], counts[indx], '%d'%counts[indx])\n",
    "    plt.title('Length of Sentence')\n",
    "    plt.show()\n",
    "    # shape_stat[-40:, 0]\n",
    "\n",
    "    max_length_value = np.max(shape_stat[:, 0])\n",
    "    max_value_indexs = np.where(shape_stat[:, 0] == max_length_value)\n",
    "    print('Max length is:', max_length_value, '\\tCorresponding indexs:', max_value_indexs)\n",
    "#     with h5py.File(DL_FILE_PATH, \"r\") as feat_clps:\n",
    "#         print('Clip_id:', list(feat_clps.keys())[max_value_indexs[0][0]])\n",
    "#         for indx in range(shape_stat.shape[0]):\n",
    "#             if shape_stat[indx, 0] >= 3000:\n",
    "#                 print(list(feat_clps.keys())[indx], end=' ')\n",
    "     \n",
    "length_of_sentences(shape_stat)"
   ]
  },
  {
   "cell_type": "code",
   "execution_count": null,
   "metadata": {},
   "outputs": [],
   "source": []
  },
  {
   "cell_type": "code",
   "execution_count": null,
   "metadata": {},
   "outputs": [],
   "source": [
    "train_loader, test_loader, info_dict = dl_dataset.get_data_loader(2008, 2, data_splitter=data_splitter)\n",
    "\n",
    "print('->  X shape:', info_dict['train_size'])\n",
    "print('->  Y shape:', info_dict['test_size'])\n",
    "print(info_dict.keys())"
   ]
  },
  {
   "cell_type": "code",
   "execution_count": null,
   "metadata": {},
   "outputs": [],
   "source": [
    "# 测试extract_feature是否正常\n",
    "dataiter = iter(train_loader)"
   ]
  },
  {
   "cell_type": "code",
   "execution_count": null,
   "metadata": {
    "scrolled": true
   },
   "outputs": [],
   "source": [
    "X_train, Y_train = next(dataiter)\n",
    "\n",
    "def display_feature(x_i, figsize=(20,6), vmin=-3, vmax=3):\n",
    "    print('x_i shape:', x_i.shape)\n",
    "    plt.figure(figsize=figsize)\n",
    "    librosa.display.specshow(x_i[:,:].T, sr=25, hop_length=1, x_axis='time', \n",
    "                             cmap='viridis', vmin=vmin, vmax=vmax)\n",
    "    plt.colorbar()\n",
    "    plt.title('Feature')\n",
    "    plt.show()\n",
    "    plt.tight_layout()\n",
    "\n",
    "test_no = 31\n",
    "x_i = X_train[test_no]\n",
    "# print(info_dict['train_index'][test_no])\n",
    "display_feature(x_i)\n",
    "# x_i = mask_policy(x_i, mask_prob=1, num=2)\n",
    "# display_feature(x_i)\n",
    "print ('x_i var:', x_i.var(axis=0))\n",
    "print ('x_i mean:', x_i.mean(axis=0))\n"
   ]
  },
  {
   "cell_type": "code",
   "execution_count": null,
   "metadata": {},
   "outputs": [],
   "source": [
    "# x_i_x = np.linspace(0, len(x_i)/100.0, num=len(x_i))\n",
    "# plt.plot(x_i_x, x_i[:, 0], x_i_x, x_i[:, 28]+5)\n",
    "# plt.show()\n",
    "print('\\n'.join(dl_dataset.summary()))"
   ]
  },
  {
   "cell_type": "code",
   "execution_count": null,
   "metadata": {},
   "outputs": [],
   "source": [
    "del X_train, Y_train, train_loader, test_loader, info_dict, dataiter, x_i\n",
    "\n",
    "import gc\n",
    "gc.collect()"
   ]
  },
  {
   "cell_type": "markdown",
   "metadata": {},
   "source": [
    "# DeepLearning Models"
   ]
  },
  {
   "cell_type": "code",
   "execution_count": null,
   "metadata": {},
   "outputs": [],
   "source": []
  },
  {
   "cell_type": "code",
   "execution_count": null,
   "metadata": {},
   "outputs": [],
   "source": [
    "os.environ[\"CUDA_VISIBLE_DEVICES\"] = \"0\"\n",
    "import tensorflow as tf\n",
    "tf.__version__"
   ]
  },
  {
   "cell_type": "code",
   "execution_count": null,
   "metadata": {},
   "outputs": [],
   "source": [
    "# 没有问题的话就开始搭建模型\n",
    "from ad_detection.dlcode.nn_model import KerasModelAdapter\n",
    "from ad_detection.dlcode.model_factory_bn import fc_cnn1d_lstm_attention\n",
    "\n",
    "UTT_LENGTH = 2560\n",
    "# dl_dataset.describe_data()\n",
    "dl_dataset.set_data_length(UTT_LENGTH)\n",
    "print(dl_dataset.get_input_shape())\n"
   ]
  },
  {
   "cell_type": "code",
   "execution_count": null,
   "metadata": {},
   "outputs": [],
   "source": [
    "hyper_params = {\n",
    "    'lr':0.001,\n",
    "    'epochs':200,\n",
    "    'decay_rate':0.04,\n",
    "    'gpus':1,\n",
    "    'batch_size':32,\n",
    "    'verbose':2\n",
    "}\n",
    "model_creator = fc_cnn1d_lstm_attention\n",
    "model = KerasModelAdapter(dl_dataset.get_input_shape(), model_creator=model_creator, **hyper_params)\n",
    "print(model)\n",
    "# visualize model layout with pydot_ng\n",
    "model.plot_model()"
   ]
  },
  {
   "cell_type": "code",
   "execution_count": null,
   "metadata": {},
   "outputs": [],
   "source": [
    "# from speechemotion.mlcode.pipelineCV import PipelineCV\n",
    "\n",
    "# pipelineCV = PipelineCV(model, dl_dataset, data_splitter, n_splits=10)\n",
    "# result = pipelineCV.run_pipeline(2000)\n",
    "# from speechemotion.mlcode.main_exp import gen_report, save_exp_log\n",
    "# print(result['conf_mx'])\n",
    "# gen_report(result['fold_metrics'])\n",
    "\n",
    "from ad_detection.mlcode.exp_logger import Logger\n",
    "logger = Logger(name_str='Bottleneck')\n",
    "logger.open()\n",
    "logger.log_timestamp()\n",
    "logger.set_print(False, False)\n",
    "\n",
    "model_creator_src = Logger.func2str(model_creator)\n",
    "print(model_creator_src)"
   ]
  },
  {
   "cell_type": "code",
   "execution_count": null,
   "metadata": {
    "scrolled": true
   },
   "outputs": [],
   "source": [
    "%matplotlib inline\n",
    "\n",
    "from ad_detection.mlcode.main_exp import main_experiment\n",
    "\n",
    "result = main_experiment(dl_dataset, data_splitter, model, seeds=SEEDS, pipeline='dl')\n",
    "\n",
    "conf_mx = result['conf_mx_sum']\n",
    "report = result['report']\n",
    "\n",
    "\n",
    "# result_df_stat # .describe()\n",
    "# UAR\n",
    "display(report)\n"
   ]
  },
  {
   "cell_type": "code",
   "execution_count": null,
   "metadata": {},
   "outputs": [],
   "source": [
    "from ad_detection.mlcode.main_exp import gen_report\n",
    "plt.style.use('ggplot')\n",
    "# show_confusion_matrix(conf_mx, save_pic_path='./log/cconf_mx.png')\n",
    "plot_confusion_matrix(conf_mx, classes=CLASS_NAMES, figsize=(5,5))\n",
    "\n",
    "logger.log_summary({\n",
    "    'Memo': '|'.join(CLASS_NAMES),\n",
    "    'Data': '\\n%s\\n' % ('\\n    '.join(dl_dataset.summary())),\n",
    "    'Model': '\\n%s\\n' % str(model),\n",
    "    'Source': '\\n%s\\n' % model_creator_src,\n",
    "    'Report': report, # gen_report(result['fold_metrics']),\n",
    "    'Confusion Matrix': '\\n%s\\n' % repr(result['conf_mx_sum']),\n",
    "    'CV_result_detail': result['cv_metrics_stat'].describe()  # fold_metrics\n",
    "})"
   ]
  },
  {
   "cell_type": "code",
   "execution_count": null,
   "metadata": {},
   "outputs": [],
   "source": [
    "show_confusion_matrix(conf_mx)"
   ]
  },
  {
   "cell_type": "code",
   "execution_count": null,
   "metadata": {},
   "outputs": [],
   "source": [
    "import time\n",
    "print('Stop process after 20 minutes!')\n",
    "time.sleep(1200)\n",
    "exit(0)"
   ]
  },
  {
   "cell_type": "code",
   "execution_count": null,
   "metadata": {},
   "outputs": [],
   "source": []
  }
 ],
 "metadata": {
  "kernelspec": {
   "display_name": "Py37 (tf2)",
   "language": "python",
   "name": "tf2"
  },
  "language_info": {
   "codemirror_mode": {
    "name": "ipython",
    "version": 3
   },
   "file_extension": ".py",
   "mimetype": "text/x-python",
   "name": "python",
   "nbconvert_exporter": "python",
   "pygments_lexer": "ipython3",
   "version": "3.7.7"
  },
  "toc": {
   "base_numbering": 1,
   "nav_menu": {},
   "number_sections": true,
   "sideBar": true,
   "skip_h1_title": false,
   "title_cell": "Table of Contents",
   "title_sidebar": "Contents",
   "toc_cell": false,
   "toc_position": {
    "height": "calc(100% - 180px)",
    "left": "10px",
    "top": "150px",
    "width": "196.712px"
   },
   "toc_section_display": true,
   "toc_window_display": true
  },
  "varInspector": {
   "cols": {
    "lenName": 16,
    "lenType": 16,
    "lenVar": 40
   },
   "kernels_config": {
    "python": {
     "delete_cmd_postfix": "",
     "delete_cmd_prefix": "del ",
     "library": "var_list.py",
     "varRefreshCmd": "print(var_dic_list())"
    },
    "r": {
     "delete_cmd_postfix": ") ",
     "delete_cmd_prefix": "rm(",
     "library": "var_list.r",
     "varRefreshCmd": "cat(var_dic_list()) "
    }
   },
   "oldHeight": 368.54178,
   "position": {
    "height": "390.764px",
    "left": "792px",
    "right": "20px",
    "top": "118px",
    "width": "642.778px"
   },
   "types_to_exclude": [
    "module",
    "function",
    "builtin_function_or_method",
    "instance",
    "_Feature"
   ],
   "varInspector_section_display": "block",
   "window_display": false
  }
 },
 "nbformat": 4,
 "nbformat_minor": 2
}
