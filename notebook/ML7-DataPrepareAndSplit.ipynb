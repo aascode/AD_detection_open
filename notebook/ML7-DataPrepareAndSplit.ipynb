{
 "cells": [
  {
   "cell_type": "markdown",
   "metadata": {},
   "source": [
    "__README:__\n",
    "\n",
    "Refer to paper:\n",
    "- Liu Z, Guo Z, Ling Z, et al. Detecting Alzheimer's Disease from Speech Using Neural Networks with Bottleneck Features and Data Augmentation. ICASSP 2021.\n",
    "\n",
    "This notebook repeats 10-fold cross-validation for 10 times and saves the split result.\n",
    "The split result should be generated before train any model."
   ]
  },
  {
   "cell_type": "code",
   "execution_count": null,
   "metadata": {},
   "outputs": [],
   "source": [
    "# from IPython.core.display import display, HTML\n",
    "# display(HTML(\"<style>.container { width:80% !important; }</style>\"))\n",
    "\n",
    "import os\n",
    "import json\n",
    "import numpy as np\n",
    "import pandas as pd\n",
    "\n",
    "%matplotlib inline\n",
    "%config InlineBackend.figure_format = 'svg'\n",
    "\n",
    "%load_ext autoreload\n",
    "%autoreload 2\n",
    "\n",
    "import matplotlib.pyplot as plt\n",
    "\n",
    "import sys\n",
    "sys.path.append('..')\n",
    "from ad_detection.mlcode.util.helper_functions import *"
   ]
  },
  {
   "cell_type": "markdown",
   "metadata": {},
   "source": [
    "# Without Augmentation"
   ]
  },
  {
   "cell_type": "markdown",
   "metadata": {},
   "source": [
    "## Prepare Features"
   ]
  },
  {
   "cell_type": "code",
   "execution_count": null,
   "metadata": {},
   "outputs": [],
   "source": [
    "from ad_detection.mlcode.merge_feature import merge_all, preprocess_steps, remove_sample_in_blacklist\n",
    "\n",
    "proj_root_path = '../ws_en/'\n",
    "\n",
    "# ['acoustic_CPE16.csv', 'acoustic_CPE16_lsa.csv',\n",
    "# 'acoustic_IS09.csv',  'acoustic_IS09_lsa.csv',\n",
    "# 'acoustic_IS10.csv',  'acoustic_IS10_lsa.csv',\n",
    "# 'acoustic_IS11.csv',  'acoustic_IS11_lsa.csv', \n",
    "# 'acoustic_IS12.csv', , 'acoustic_IS12_lsa.csv',\n",
    "# 'acoustic_egemaps.csv',  'acoustic_egemaps_lsa.csv',\n",
    "# 'duration.csv', 'egemaps.csv', 'merged.csv', 'temp_data_after_FE.csv']\n",
    "\n",
    "\n",
    "# 剔除掉不要的数据\n",
    "csv_label_path = proj_root_path + 'label/summary.csv'\n",
    "csv_label_selected_path = proj_root_path + 'label/summary_selected.csv'\n",
    "blacklist_path = proj_root_path + 'label/blacklist.csv'  # None\n",
    "remove_sample_in_blacklist(csv_label_path, blacklist_path, csv_label_selected_path)\n",
    "\n",
    "# 合并不同的特征集\n",
    "egemaps_fp = proj_root_path + 'fusion/acoustic_CPE16.csv'\n",
    "allfeature_out_fp = proj_root_path + 'fusion/merged_CPE16.csv'\n",
    "\n",
    "csv_label_path = csv_label_selected_path\n",
    "\n",
    "merge_all([csv_label_path, egemaps_fp], \n",
    "          allfeature_out_fp,\n",
    "          [None, 'CPE16_'])\n",
    "\n",
    "# 简单数据处理\n",
    "preprocess_steps(allfeature_out_fp, allfeature_out_fp)"
   ]
  },
  {
   "cell_type": "code",
   "execution_count": null,
   "metadata": {
    "scrolled": false
   },
   "outputs": [],
   "source": [
    "from ad_detection.mlcode.data_manager import MLDataSet\n",
    "\n",
    "CLASS_CHOOSE=['CTRL','AD']\n",
    "SEEDS = list(range(2008, 2018))\n",
    "\n",
    "file_path = proj_root_path + 'fusion/merged_CPE16.csv'\n",
    "fe_file_path = proj_root_path + 'fusion/data_after_FE_CPE16.csv'\n",
    "\n",
    "\n",
    "ad_dataset = MLDataSet(file_path)\n",
    "ad_dataset.feature_engineering(class_col_name='label', class_namelist=CLASS_CHOOSE)\n",
    "# ad_datasets.df = ad_datasets.drop_nan_row(ad_datasets.df, 'mmse')\n",
    "ad_dataset.fill_nan_value_mean(ad_dataset.df, ['age'])\n",
    "\n",
    "ad_dataset.write_FE_df(fe_file_path)\n",
    "\n",
    "\n",
    "print()\n",
    "par_id_uni = ad_dataset.df.participant_id.unique()\n",
    "print('Unique %d\\n' % len(par_id_uni))  # , par_id_uni\n",
    "ad_dataset.df.iloc[:, 0:16].describe()"
   ]
  },
  {
   "cell_type": "code",
   "execution_count": null,
   "metadata": {},
   "outputs": [],
   "source": [
    "# duration egemaps linguistic score demographics    doctor all propose select test\n",
    "feature_group='^CPE16_*'\n",
    "# PPL_USAGE = 'origin' # None  # ['both', 'origin', 'perp']  None means auto.\n",
    "\n",
    "ad_dataset.feature_filter(feature_regex=feature_group)"
   ]
  },
  {
   "cell_type": "markdown",
   "metadata": {},
   "source": [
    "## Dataset Split"
   ]
  },
  {
   "cell_type": "code",
   "execution_count": null,
   "metadata": {},
   "outputs": [],
   "source": [
    "from ad_detection.mlcode.data_splitter import KFoldSplitter\n",
    "\n",
    "# 重新划分数据\n",
    "# 从这里开始 df里的数据顺序不能改变，否则会对不上号\n",
    "k_splitter = KFoldSplitter(sampling_method=None,\n",
    "                           split_file_dir='../ws_en/list/split/',\n",
    "                           result_file_dir='../ws_en/list/result/')  #"
   ]
  },
  {
   "cell_type": "code",
   "execution_count": null,
   "metadata": {
    "scrolled": false
   },
   "outputs": [],
   "source": [
    "k_splitter.clean()\n",
    "k_splitter.split(ad_dataset.df, seeds=SEEDS)"
   ]
  },
  {
   "cell_type": "code",
   "execution_count": null,
   "metadata": {
    "scrolled": true
   },
   "outputs": [],
   "source": [
    "# 3.4GHz 4 process 提一次 约 6min\n",
    "# !./extract_perplexity.py\n",
    "# !../code/extract_perplexity_parallel.py --process_num 20"
   ]
  },
  {
   "cell_type": "code",
   "execution_count": null,
   "metadata": {},
   "outputs": [],
   "source": []
  },
  {
   "cell_type": "code",
   "execution_count": null,
   "metadata": {},
   "outputs": [],
   "source": []
  },
  {
   "cell_type": "code",
   "execution_count": null,
   "metadata": {},
   "outputs": [],
   "source": []
  }
 ],
 "metadata": {
  "hide_input": false,
  "kernelspec": {
   "display_name": "Python 3",
   "language": "python",
   "name": "python3"
  },
  "language_info": {
   "codemirror_mode": {
    "name": "ipython",
    "version": 3
   },
   "file_extension": ".py",
   "mimetype": "text/x-python",
   "name": "python",
   "nbconvert_exporter": "python",
   "pygments_lexer": "ipython3",
   "version": "3.7.4"
  },
  "toc": {
   "base_numbering": 1,
   "nav_menu": {},
   "number_sections": true,
   "sideBar": true,
   "skip_h1_title": false,
   "title_cell": "Table of Contents",
   "title_sidebar": "Contents",
   "toc_cell": false,
   "toc_position": {
    "height": "calc(100% - 180px)",
    "left": "10px",
    "top": "150px",
    "width": "165px"
   },
   "toc_section_display": true,
   "toc_window_display": true
  },
  "varInspector": {
   "cols": {
    "lenName": 16,
    "lenType": 16,
    "lenVar": 40
   },
   "kernels_config": {
    "python": {
     "delete_cmd_postfix": "",
     "delete_cmd_prefix": "del ",
     "library": "var_list.py",
     "varRefreshCmd": "print(var_dic_list())"
    },
    "r": {
     "delete_cmd_postfix": ") ",
     "delete_cmd_prefix": "rm(",
     "library": "var_list.r",
     "varRefreshCmd": "cat(var_dic_list()) "
    }
   },
   "oldHeight": 291.781,
   "position": {
    "height": "408.958px",
    "left": "1257.32px",
    "right": "20px",
    "top": "49.9028px",
    "width": "350.313px"
   },
   "types_to_exclude": [
    "module",
    "function",
    "builtin_function_or_method",
    "instance",
    "_Feature"
   ],
   "varInspector_section_display": "block",
   "window_display": false
  }
 },
 "nbformat": 4,
 "nbformat_minor": 2
}
